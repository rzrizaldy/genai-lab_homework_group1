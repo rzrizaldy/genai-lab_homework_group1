{
 "cells": [
  {
   "cell_type": "markdown",
   "metadata": {},
   "source": [
    "# Part A: Experimenting with Prompt Design\n",
    "\n",
    "**Experiments conducted using HuggingFace Inference API**\n",
    "\n",
    "Set `HF_TOKEN` in `.env` file, then run cells to test prompts automatically.\n",
    "\n",
    "Alternative: Use https://gpt-oss.com/ manually if preferred."
   ]
  },
  {
   "cell_type": "markdown",
   "metadata": {},
   "source": [
    "## Setup"
   ]
  },
  {
   "cell_type": "code",
   "execution_count": 1,
   "metadata": {},
   "outputs": [
    {
     "name": "stdout",
     "output_type": "stream",
     "text": [
      "Testing connection...\n",
      "Response: Hello!\n"
     ]
    }
   ],
   "source": [
    "import os\n",
    "from openai import OpenAI\n",
    "from dotenv import load_dotenv\n",
    "\n",
    "load_dotenv()\n",
    "\n",
    "client = OpenAI(\n",
    "    base_url=\"https://router.huggingface.co/v1\",\n",
    "    api_key=os.environ.get(\"HF_TOKEN\", \"your_token_here\"),\n",
    ")\n",
    "\n",
    "def get_completion(prompt, model=\"openai/gpt-oss-20b:groq\"):\n",
    "    try:\n",
    "        completion = client.chat.completions.create(\n",
    "            model=model,\n",
    "            messages=[{\"role\": \"user\", \"content\": prompt}],\n",
    "        )\n",
    "        return completion.choices[0].message.content\n",
    "    except Exception as e:\n",
    "        return f\"Error: {str(e)}\"\n",
    "\n",
    "print(\"Testing connection...\")\n",
    "test = get_completion(\"Say 'Hello!'\")\n",
    "print(f\"Response: {test}\")"
   ]
  },
  {
   "cell_type": "markdown",
   "metadata": {},
   "source": [
    "---\n",
    "## Task 1: Summarization"
   ]
  },
  {
   "cell_type": "code",
   "execution_count": 2,
   "metadata": {},
   "outputs": [],
   "source": [
    "text_to_summarize = \"\"\"\n",
    "\n",
    "Every day, millions of shoppers hit the stores in full force—both online and on foot—searching frantically for the perfect gift. . . . Americans [spend] over $30 billion at retail stores in the month of December alone. [Yet] many dread the thought of buying gifts; they worry that their purchases will disappoint rather than delight the intended recipients.\n",
    "With this paragraph, Stanford University Graduate School of Business researchers Francis J. Flynn and Gabrielle S. Adams introduce their study “Money Can’t Buy Love: Asymmetric Beliefs About Gift Price and Feelings of Appreciation,” published in the Journal of Experimental Social Psychology (Vol. 45, 2009). The researchers investigated the relationship between the price paid for a gift and the level of appreciation felt by the recipient. Gift-givers who spend more money on a gift often do so to send a strong signal of their love to the recipient. The researchers theorized that these gift-givers would expect the recipient to express a high level of appreciation for the gift. However, the researchers did not expect gift-recipients to associate a greater level of appreciation with a higher gift price. That is, “The link between gift price and feelings of appreciation will be stronger for gift-givers than for gift-recipients.”\n",
    "To test this theory, the researchers conducted an experimental study involving a representative sample of 237 adults from across the nation. Each subject completed an online survey in exchange for a $5 gift certificate to a major online retailer. The survey asked questions about a birthday gift that the subject either received or gave. The participants were randomly assigned to the role of either gift-giver or gift-receiver. (In other words, gift-givers were asked about a birthday gift they recently gave, while gift-recipients were asked about a birthday gift they recently received.) Gifts of cash, gift cards, or gift certificates were excluded from the study. Data were collected on the following variables measured for each participant:\n",
    "Role (gift-giver or gift-recipient)\n",
    "Gender (male or female)\n",
    "Gift price (measured in dollars)\n",
    "Feeling of appreciation (measured on a 7-point scale in response to the question: “To what extent do you or does the recipient appreciate this gift?,” where 1 = “Not at all,” 2 = “A little,” 3 = “More than a little,” 4 = “Somewhat,” 5 = “Moderately so,” 6 = “Very much,” and 7 = “To a great extent”)\n",
    "Feeling of gratefulness (measured on a 7-point scale in response to the question: “To what extent do you or does the recipient feel grateful for this gift?,” where 1 = “Not at all,” 2 = “A little,” 3 = “More than a little,” 4 = “Somewhat,” 5 = “Moderately so,” 6 = “Very much,” and 7 = “To a great extent”)\n",
    "Overall level of appreciation (measured as the sum of the two 7-point scales—possible values are 2, 3, 4, . . . , 13, and 14)\n",
    "The Stanford University researchers’ analysis of the data led them to conclude that “gift-givers and gift-receivers disagree about the link between gift price and gift-recipients’ feelings of appreciation. Givers anticipated that recipients would appreciate more expensive gifts, but gift-recipients did not base their feelings of appreciation on how much the gift cost.”\n",
    "\n",
    "\n",
    "\"\"\""
   ]
  },
  {
   "cell_type": "markdown",
   "metadata": {},
   "source": [
    "### Prompt 1.1: Vague"
   ]
  },
  {
   "cell_type": "code",
   "execution_count": 11,
   "metadata": {},
   "outputs": [
    {
     "name": "stdout",
     "output_type": "stream",
     "text": [
      "PROMPT:\n",
      "\n",
      "Tell me about this concisely.\n",
      "\n",
      "\n",
      "\n",
      "Every day, millions of shoppers hit the stores in full force—both online and on foot—searching frantically for the perfect gift. . . . Americans [spend] over $30 billion at retail stores in the month of December alone. [Yet] many dread the thought of buying gifts; they worry that their purchases will disappoint rather than delight the intended recipients.\n",
      "With this paragraph, Stanford University Graduate School of Business researchers Francis J. Flynn and Gabrielle S. Adams introduce their study “Money Can’t Buy Love: Asymmetric Beliefs About Gift Price and Feelings of Appreciation,” published in the Journal of Experimental Social Psychology (Vol. 45, 2009). The researchers investigated the relationship between the price paid for a gift and the level of appreciation felt by the recipient. Gift-givers who spend more money on a gift often do so to send a strong signal of their love to the recipient. The researchers theorized that these gift-givers would expect the recipient to express a high level of appreciation for the gift. However, the researchers did not expect gift-recipients to associate a greater level of appreciation with a higher gift price. That is, “The link between gift price and feelings of appreciation will be stronger for gift-givers than for gift-recipients.”\n",
      "To test this theory, the researchers conducted an experimental study involving a representative sample of 237 adults from across the nation. Each subject completed an online survey in exchange for a $5 gift certificate to a major online retailer. The survey asked questions about a birthday gift that the subject either received or gave. The participants were randomly assigned to the role of either gift-giver or gift-receiver. (In other words, gift-givers were asked about a birthday gift they recently gave, while gift-recipients were asked about a birthday gift they recently received.) Gifts of cash, gift cards, or gift certificates were excluded from the study. Data were collected on the following variables measured for each participant:\n",
      "Role (gift-giver or gift-recipient)\n",
      "Gender (male or female)\n",
      "Gift price (measured in dollars)\n",
      "Feeling of appreciation (measured on a 7-point scale in response to the question: “To what extent do you or does the recipient appreciate this gift?,” where 1 = “Not at all,” 2 = “A little,” 3 = “More than a little,” 4 = “Somewhat,” 5 = “Moderately so,” 6 = “Very much,” and 7 = “To a great extent”)\n",
      "Feeling of gratefulness (measured on a 7-point scale in response to the question: “To what extent do you or does the recipient feel grateful for this gift?,” where 1 = “Not at all,” 2 = “A little,” 3 = “More than a little,” 4 = “Somewhat,” 5 = “Moderately so,” 6 = “Very much,” and 7 = “To a great extent”)\n",
      "Overall level of appreciation (measured as the sum of the two 7-point scales—possible values are 2, 3, 4, . . . , 13, and 14)\n",
      "The Stanford University researchers’ analysis of the data led them to conclude that “gift-givers and gift-receivers disagree about the link between gift price and gift-recipients’ feelings of appreciation. Givers anticipated that recipients would appreciate more expensive gifts, but gift-recipients did not base their feelings of appreciation on how much the gift cost.”\n",
      "\n",
      "\n",
      "\n",
      "\n",
      "\n",
      "RESPONSE:\n",
      "**Study Overview – “Money Can’t Buy Love” (Flynn & Adams, 2009)**  \n",
      "\n",
      "- **Purpose**: Test whether gift‑givers and gift‑receivers differ in how they link a gift’s price to the recipient’s appreciation.  \n",
      "- **Design**: 237 U.S. adults (randomly assigned to “giver” or “receiver” roles) completed an online survey about a recent birthday gift (cash/gift‑cards excluded). Participants earned a $5 gift card for participation.  \n",
      "- **Measures**:  \n",
      "  - Role (giver/receiver)  \n",
      "  - Gender  \n",
      "  - Gift price (USD)  \n",
      "  - Appreciation (7‑point scale)  \n",
      "  - Gratefulness (7‑point scale)  \n",
      "  - Overall appreciation (sum of the two scales, 2–14).  \n",
      "- **Key Finding**: Givers expected that higher‑priced gifts would elicit stronger appreciation, but recipients did **not** show this pattern—price did not predict their feelings of appreciation. Thus, the link between gift price and appreciation is asymmetric, being stronger for gift‑givers’ expectations than for recipients’ actual responses.\n"
     ]
    }
   ],
   "source": [
    "prompt_1_1 = f\"\"\"\n",
    "Tell me about this concisely.\n",
    "\n",
    "{text_to_summarize}\n",
    "\"\"\"\n",
    "print(\"PROMPT:\")\n",
    "print(prompt_1_1)\n",
    "\n",
    "response_1_1 = get_completion(prompt_1_1)\n",
    "print(\"\\nRESPONSE:\")\n",
    "print(response_1_1)"
   ]
  },
  {
   "cell_type": "markdown",
   "metadata": {},
   "source": [
    "### Prompt 1.2: Clear Audience and Format"
   ]
  },
  {
   "cell_type": "code",
   "execution_count": 4,
   "metadata": {},
   "outputs": [
    {
     "name": "stdout",
     "output_type": "stream",
     "text": [
      "PROMPT:\n",
      "\n",
      "Summarize this using bullet points. Explain it for a total beginner who doesn't get statistics.\n",
      "\n",
      "\n",
      "Every day, millions of shoppers hit the stores in full force—both online and on foot—searching frantically for the perfect gift. . . . Americans [spend] over $30 billion at retail stores in the month of December alone. [Yet] many dread the thought of buying gifts; they worry that their purchases will disappoint rather than delight the intended recipients.\n",
      "With this paragraph, Stanford University Graduate School of Business researchers Francis J. Flynn and Gabrielle S. Adams introduce their study “Money Can’t Buy Love: Asymmetric Beliefs About Gift Price and Feelings of Appreciation,” published in the Journal of Experimental Social Psychology (Vol. 45, 2009). The researchers investigated the relationship between the price paid for a gift and the level of appreciation felt by the recipient. Gift-givers who spend more money on a gift often do so to send a strong signal of their love to the recipient. The researchers theorized that these gift-givers would expect the recipient to express a high level of appreciation for the gift. However, the researchers did not expect gift-recipients to associate a greater level of appreciation with a higher gift price. That is, “The link between gift price and feelings of appreciation will be stronger for gift-givers than for gift-recipients.”\n",
      "To test this theory, the researchers conducted an experimental study involving a representative sample of 237 adults from across the nation. Each subject completed an online survey in exchange for a $5 gift certificate to a major online retailer. The survey asked questions about a birthday gift that the subject either received or gave. The participants were randomly assigned to the role of either gift-giver or gift-receiver. (In other words, gift-givers were asked about a birthday gift they recently gave, while gift-recipients were asked about a birthday gift they recently received.) Gifts of cash, gift cards, or gift certificates were excluded from the study. Data were collected on the following variables measured for each participant:\n",
      "Role (gift-giver or gift-recipient)\n",
      "Gender (male or female)\n",
      "Gift price (measured in dollars)\n",
      "Feeling of appreciation (measured on a 7-point scale in response to the question: “To what extent do you or does the recipient appreciate this gift?,” where 1 = “Not at all,” 2 = “A little,” 3 = “More than a little,” 4 = “Somewhat,” 5 = “Moderately so,” 6 = “Very much,” and 7 = “To a great extent”)\n",
      "Feeling of gratefulness (measured on a 7-point scale in response to the question: “To what extent do you or does the recipient feel grateful for this gift?,” where 1 = “Not at all,” 2 = “A little,” 3 = “More than a little,” 4 = “Somewhat,” 5 = “Moderately so,” 6 = “Very much,” and 7 = “To a great extent”)\n",
      "Overall level of appreciation (measured as the sum of the two 7-point scales—possible values are 2, 3, 4, . . . , 13, and 14)\n",
      "The Stanford University researchers’ analysis of the data led them to conclude that “gift-givers and gift-receivers disagree about the link between gift price and gift-recipients’ feelings of appreciation. Givers anticipated that recipients would appreciate more expensive gifts, but gift-recipients did not base their feelings of appreciation on how much the gift cost.”\n",
      "\n",
      "\n",
      "\n",
      "\n",
      "\n",
      "RESPONSE:\n",
      "**Key Take‑aways (bullet‑point style, no statistical jargon)**  \n",
      "\n",
      "- **Everyone spends a lot on gifts**  \n",
      "  - In December alone, Americans spend more than **$30 billion** in stores (online or in‑person).  \n",
      "  - Shoppers often worry: *“Will my gift be a hit or a flop?”*\n",
      "\n",
      "- **The study’s big idea**  \n",
      "  - Researchers at Stanford wanted to know: *Does a gift’s price matter to the person who receives it?*  \n",
      "  - They also wondered if the person who gives the gift expects a different reaction than the person who receives it.\n",
      "\n",
      "- **Who was involved?**  \n",
      "  - **237 adults** from across the U.S. (roughly the size of a small town).  \n",
      "  - Every participant got a $5 gift card for the survey (a small incentive).\n",
      "\n",
      "- **How they worked**  \n",
      "  - Each person was **randomly put into one of two roles**:  \n",
      "    - **Gift‑giver**: Think of the last birthday gift *they gave* to someone.  \n",
      "    - **Gift‑receiver**: Think of the last birthday gift *they got* from someone.  \n",
      "  - Participants answered questions about that gift (price, how much they appreciated it, how grateful they felt, etc.).\n",
      "\n",
      "- **What they measured**  \n",
      "  - **Gift price** (in dollars).  \n",
      "  - **Feeling of appreciation** (a 7‑point scale from “Not at all” to “To a great extent”).  \n",
      "  - **Feeling of gratefulness** (another 7‑point scale).  \n",
      "  - **Overall appreciation** (just added the two scales together).\n",
      "\n",
      "- **What the researchers found (in plain English)**  \n",
      "  1. **Gift‑givers**  \n",
      "     - *Expected* that the higher the price, the more the receiver would feel appreciative.  \n",
      "     - In other words, they think “If I spend a lot, the recipient will say ‘Wow, thank you!’”  \n",
      "\n",
      "  2. **Gift‑receivers**  \n",
      "     - *Did not* link the price to how much they felt appreciated.  \n",
      "     - Their appreciation was more about **how the gift matched their taste** or **how thoughtful it seemed**, not the dollar amount.  \n",
      "\n",
      "- **Bottom line**  \n",
      "  - **People who give gifts and people who receive them have different views on price vs. appreciation.**  \n",
      "  - The giver’s “price‑signals‑love” expectation isn’t shared by the receiver.  \n",
      "  - So, if you’re worried about buying something expensive, remember: the other person’s gratitude may not depend on how much you spent.\n",
      "\n",
      "**Why it matters (for a beginner)**  \n",
      "- If you want to show love through a gift, it’s more about the thought and relevance than the price tag.  \n",
      "- Understanding this mismatch can help you avoid over‑spending or feeling guilty if the gift isn’t “appreciated” in the way you imagined.\n"
     ]
    }
   ],
   "source": [
    "prompt_1_2 = f\"\"\"\n",
    "Summarize this using bullet points. Explain it for a total beginner who doesn't get statistics.\n",
    "{text_to_summarize}\n",
    "\"\"\"\n",
    "print(\"PROMPT:\")\n",
    "print(prompt_1_2)\n",
    "\n",
    "response_1_2 = get_completion(prompt_1_2)\n",
    "print(\"\\nRESPONSE:\")\n",
    "print(response_1_2)"
   ]
  },
  {
   "cell_type": "markdown",
   "metadata": {},
   "source": [
    "### Prompt 1.3: Scoping, Clear target Audience (Grad Audience), and using Section"
   ]
  },
  {
   "cell_type": "code",
   "execution_count": 8,
   "metadata": {},
   "outputs": [
    {
     "name": "stdout",
     "output_type": "stream",
     "text": [
      "PROMPT:\n",
      "\n",
      "Write a one-paragraph summary for a grad student, focusing only on the study's hypothesis, variables, and methodology.\n",
      "\n",
      "\n",
      "\n",
      "Every day, millions of shoppers hit the stores in full force—both online and on foot—searching frantically for the perfect gift. . . . Americans [spend] over $30 billion at retail stores in the month of December alone. [Yet] many dread the thought of buying gifts; they worry that their purchases will disappoint rather than delight the intended recipients.\n",
      "With this paragraph, Stanford University Graduate School of Business researchers Francis J. Flynn and Gabrielle S. Adams introduce their study “Money Can’t Buy Love: Asymmetric Beliefs About Gift Price and Feelings of Appreciation,” published in the Journal of Experimental Social Psychology (Vol. 45, 2009). The researchers investigated the relationship between the price paid for a gift and the level of appreciation felt by the recipient. Gift-givers who spend more money on a gift often do so to send a strong signal of their love to the recipient. The researchers theorized that these gift-givers would expect the recipient to express a high level of appreciation for the gift. However, the researchers did not expect gift-recipients to associate a greater level of appreciation with a higher gift price. That is, “The link between gift price and feelings of appreciation will be stronger for gift-givers than for gift-recipients.”\n",
      "To test this theory, the researchers conducted an experimental study involving a representative sample of 237 adults from across the nation. Each subject completed an online survey in exchange for a $5 gift certificate to a major online retailer. The survey asked questions about a birthday gift that the subject either received or gave. The participants were randomly assigned to the role of either gift-giver or gift-receiver. (In other words, gift-givers were asked about a birthday gift they recently gave, while gift-recipients were asked about a birthday gift they recently received.) Gifts of cash, gift cards, or gift certificates were excluded from the study. Data were collected on the following variables measured for each participant:\n",
      "Role (gift-giver or gift-recipient)\n",
      "Gender (male or female)\n",
      "Gift price (measured in dollars)\n",
      "Feeling of appreciation (measured on a 7-point scale in response to the question: “To what extent do you or does the recipient appreciate this gift?,” where 1 = “Not at all,” 2 = “A little,” 3 = “More than a little,” 4 = “Somewhat,” 5 = “Moderately so,” 6 = “Very much,” and 7 = “To a great extent”)\n",
      "Feeling of gratefulness (measured on a 7-point scale in response to the question: “To what extent do you or does the recipient feel grateful for this gift?,” where 1 = “Not at all,” 2 = “A little,” 3 = “More than a little,” 4 = “Somewhat,” 5 = “Moderately so,” 6 = “Very much,” and 7 = “To a great extent”)\n",
      "Overall level of appreciation (measured as the sum of the two 7-point scales—possible values are 2, 3, 4, . . . , 13, and 14)\n",
      "The Stanford University researchers’ analysis of the data led them to conclude that “gift-givers and gift-receivers disagree about the link between gift price and gift-recipients’ feelings of appreciation. Givers anticipated that recipients would appreciate more expensive gifts, but gift-recipients did not base their feelings of appreciation on how much the gift cost.”\n",
      "\n",
      "\n",
      "\n",
      "\n",
      "\n",
      "\n",
      "RESPONSE:\n",
      "The Stanford study hypothesized that the perceived association between a gift’s price and the recipient’s appreciation would differ by role: gift‑givers would expect a stronger positive link between price and appreciation than gift‑receivers would actually experience. To test this, the researchers recruited 237 U.S. adults who were randomly assigned to either the “gift‑giver” or “gift‑receiver” condition and completed an online survey (in exchange for a $5 gift certificate). The survey collected key variables—role (giver or receiver), gift price (in dollars), appreciation (7‑point Likert scale), gratitude (7‑point Likert scale), and a composite overall appreciation score (sum of appreciation and gratitude)—for a recent birthday gift (excluding cash or gift cards). The experimental design allowed a direct comparison of expected versus felt appreciation across the two roles.\n"
     ]
    }
   ],
   "source": [
    "prompt_1_3 = f\"\"\"\n",
    "Write a one-paragraph summary for a grad student, focusing only on the study's hypothesis, variables, and methodology.\n",
    "\n",
    "{text_to_summarize}\n",
    "\n",
    "\"\"\"\n",
    "print(\"PROMPT:\")\n",
    "print(prompt_1_3)\n",
    "\n",
    "response_1_3 = get_completion(prompt_1_3)\n",
    "print(\"\\nRESPONSE:\")\n",
    "print(response_1_3)"
   ]
  },
  {
   "cell_type": "markdown",
   "metadata": {},
   "source": [
    "### Prompt 1.4: Using Tone and Constraint"
   ]
  },
  {
   "cell_type": "code",
   "execution_count": 9,
   "metadata": {},
   "outputs": [
    {
     "name": "stdout",
     "output_type": "stream",
     "text": [
      "PROMPT:\n",
      "\n",
      "Explain this in exactly 3 sentences, like I'm a 10-year-old.\n",
      "\n",
      "\n",
      "\n",
      "Every day, millions of shoppers hit the stores in full force—both online and on foot—searching frantically for the perfect gift. . . . Americans [spend] over $30 billion at retail stores in the month of December alone. [Yet] many dread the thought of buying gifts; they worry that their purchases will disappoint rather than delight the intended recipients.\n",
      "With this paragraph, Stanford University Graduate School of Business researchers Francis J. Flynn and Gabrielle S. Adams introduce their study “Money Can’t Buy Love: Asymmetric Beliefs About Gift Price and Feelings of Appreciation,” published in the Journal of Experimental Social Psychology (Vol. 45, 2009). The researchers investigated the relationship between the price paid for a gift and the level of appreciation felt by the recipient. Gift-givers who spend more money on a gift often do so to send a strong signal of their love to the recipient. The researchers theorized that these gift-givers would expect the recipient to express a high level of appreciation for the gift. However, the researchers did not expect gift-recipients to associate a greater level of appreciation with a higher gift price. That is, “The link between gift price and feelings of appreciation will be stronger for gift-givers than for gift-recipients.”\n",
      "To test this theory, the researchers conducted an experimental study involving a representative sample of 237 adults from across the nation. Each subject completed an online survey in exchange for a $5 gift certificate to a major online retailer. The survey asked questions about a birthday gift that the subject either received or gave. The participants were randomly assigned to the role of either gift-giver or gift-receiver. (In other words, gift-givers were asked about a birthday gift they recently gave, while gift-recipients were asked about a birthday gift they recently received.) Gifts of cash, gift cards, or gift certificates were excluded from the study. Data were collected on the following variables measured for each participant:\n",
      "Role (gift-giver or gift-recipient)\n",
      "Gender (male or female)\n",
      "Gift price (measured in dollars)\n",
      "Feeling of appreciation (measured on a 7-point scale in response to the question: “To what extent do you or does the recipient appreciate this gift?,” where 1 = “Not at all,” 2 = “A little,” 3 = “More than a little,” 4 = “Somewhat,” 5 = “Moderately so,” 6 = “Very much,” and 7 = “To a great extent”)\n",
      "Feeling of gratefulness (measured on a 7-point scale in response to the question: “To what extent do you or does the recipient feel grateful for this gift?,” where 1 = “Not at all,” 2 = “A little,” 3 = “More than a little,” 4 = “Somewhat,” 5 = “Moderately so,” 6 = “Very much,” and 7 = “To a great extent”)\n",
      "Overall level of appreciation (measured as the sum of the two 7-point scales—possible values are 2, 3, 4, . . . , 13, and 14)\n",
      "The Stanford University researchers’ analysis of the data led them to conclude that “gift-givers and gift-receivers disagree about the link between gift price and gift-recipients’ feelings of appreciation. Givers anticipated that recipients would appreciate more expensive gifts, but gift-recipients did not base their feelings of appreciation on how much the gift cost.”\n",
      "\n",
      "\n",
      "\n",
      "\n",
      "\n",
      "RESPONSE:\n",
      "Every month, lots of people buy gifts for friends and family and sometimes worry about picking the right one.  \n",
      "A team of scientists at Stanford asked 237 adults whether they thought a more expensive birthday gift would make the person who got it feel more thankful, and they split the participants into those who gave a gift and those who received a gift.  \n",
      "They found that while gift‑givers think the more money spent, the better the recipient will appreciate it, the recipients actually do not feel more appreciation just because the gift cost more.\n"
     ]
    }
   ],
   "source": [
    "prompt_1_4 = f\"\"\"\n",
    "Explain this in exactly 3 sentences, like I'm a 10-year-old.\n",
    "\n",
    "{text_to_summarize}\n",
    "\"\"\"\n",
    "print(\"PROMPT:\")\n",
    "print(prompt_1_4)\n",
    "\n",
    "response_1_4 = get_completion(prompt_1_4)\n",
    "print(\"\\nRESPONSE:\")\n",
    "print(response_1_4)"
   ]
  },
  {
   "cell_type": "markdown",
   "metadata": {},
   "source": [
    "### Prompt 1.5: Persona and Creative Transformation"
   ]
  },
  {
   "cell_type": "code",
   "execution_count": 10,
   "metadata": {},
   "outputs": [
    {
     "name": "stdout",
     "output_type": "stream",
     "text": [
      "PROMPT:\n",
      "\n",
      "Act as William Shakespeare. Read this study and then write a 4-line poetic verse that captures its main finding about gift-givers and receivers.\n",
      "\n",
      "\n",
      "Every day, millions of shoppers hit the stores in full force—both online and on foot—searching frantically for the perfect gift. . . . Americans [spend] over $30 billion at retail stores in the month of December alone. [Yet] many dread the thought of buying gifts; they worry that their purchases will disappoint rather than delight the intended recipients.\n",
      "With this paragraph, Stanford University Graduate School of Business researchers Francis J. Flynn and Gabrielle S. Adams introduce their study “Money Can’t Buy Love: Asymmetric Beliefs About Gift Price and Feelings of Appreciation,” published in the Journal of Experimental Social Psychology (Vol. 45, 2009). The researchers investigated the relationship between the price paid for a gift and the level of appreciation felt by the recipient. Gift-givers who spend more money on a gift often do so to send a strong signal of their love to the recipient. The researchers theorized that these gift-givers would expect the recipient to express a high level of appreciation for the gift. However, the researchers did not expect gift-recipients to associate a greater level of appreciation with a higher gift price. That is, “The link between gift price and feelings of appreciation will be stronger for gift-givers than for gift-recipients.”\n",
      "To test this theory, the researchers conducted an experimental study involving a representative sample of 237 adults from across the nation. Each subject completed an online survey in exchange for a $5 gift certificate to a major online retailer. The survey asked questions about a birthday gift that the subject either received or gave. The participants were randomly assigned to the role of either gift-giver or gift-receiver. (In other words, gift-givers were asked about a birthday gift they recently gave, while gift-recipients were asked about a birthday gift they recently received.) Gifts of cash, gift cards, or gift certificates were excluded from the study. Data were collected on the following variables measured for each participant:\n",
      "Role (gift-giver or gift-recipient)\n",
      "Gender (male or female)\n",
      "Gift price (measured in dollars)\n",
      "Feeling of appreciation (measured on a 7-point scale in response to the question: “To what extent do you or does the recipient appreciate this gift?,” where 1 = “Not at all,” 2 = “A little,” 3 = “More than a little,” 4 = “Somewhat,” 5 = “Moderately so,” 6 = “Very much,” and 7 = “To a great extent”)\n",
      "Feeling of gratefulness (measured on a 7-point scale in response to the question: “To what extent do you or does the recipient feel grateful for this gift?,” where 1 = “Not at all,” 2 = “A little,” 3 = “More than a little,” 4 = “Somewhat,” 5 = “Moderately so,” 6 = “Very much,” and 7 = “To a great extent”)\n",
      "Overall level of appreciation (measured as the sum of the two 7-point scales—possible values are 2, 3, 4, . . . , 13, and 14)\n",
      "The Stanford University researchers’ analysis of the data led them to conclude that “gift-givers and gift-receivers disagree about the link between gift price and gift-recipients’ feelings of appreciation. Givers anticipated that recipients would appreciate more expensive gifts, but gift-recipients did not base their feelings of appreciation on how much the gift cost.”\n",
      "\n",
      "\n",
      "\n",
      "\n",
      "\n",
      "RESPONSE:\n",
      "**Four‑line verse in the spirit of Shakespeare**\n",
      "\n",
      "Gift‑giver thinks the sum doth speak of love’s great sign,  \n",
      "While gift‑receiver’s heart doth weigh not coin but soul’s own line;  \n",
      "They thank the present, price‑less, pure as fragrant rain,  \n",
      "And gifts are prized by feeling, not by gold’s refrain.\n"
     ]
    }
   ],
   "source": [
    "prompt_1_5 = f\"\"\"\n",
    "Act as William Shakespeare. Read this study and then write a 4-line poetic verse that captures its main finding about gift-givers and receivers.\n",
    "{text_to_summarize}\n",
    "\"\"\"\n",
    "print(\"PROMPT:\")\n",
    "print(prompt_1_5)\n",
    "\n",
    "response_1_5 = get_completion(prompt_1_5)\n",
    "print(\"\\nRESPONSE:\")\n",
    "print(response_1_5)"
   ]
  },
  {
   "cell_type": "markdown",
   "metadata": {},
   "source": [
    "---\n",
    "## Task 2: [Your Task Name]"
   ]
  },
  {
   "cell_type": "markdown",
   "metadata": {},
   "source": [
    "### Prompt 2.1: [Style/Approach]"
   ]
  },
  {
   "cell_type": "code",
   "execution_count": null,
   "metadata": {},
   "outputs": [],
   "source": [
    "prompt_2_1 = \"\"\"\n",
    "[Your prompt here]\n",
    "\"\"\"\n",
    "print(\"PROMPT:\")\n",
    "print(prompt_2_1)\n",
    "\n",
    "response_2_1 = get_completion(prompt_2_1)\n",
    "print(\"\\nRESPONSE:\")\n",
    "print(response_2_1)"
   ]
  },
  {
   "cell_type": "markdown",
   "metadata": {},
   "source": [
    "### Prompt 2.2: [Style/Approach]"
   ]
  },
  {
   "cell_type": "code",
   "execution_count": null,
   "metadata": {},
   "outputs": [],
   "source": [
    "prompt_2_2 = \"\"\"\n",
    "[Your prompt here]\n",
    "\"\"\"\n",
    "print(\"PROMPT:\")\n",
    "print(prompt_2_2)\n",
    "\n",
    "response_2_2 = get_completion(prompt_2_2)\n",
    "print(\"\\nRESPONSE:\")\n",
    "print(response_2_2)"
   ]
  },
  {
   "cell_type": "markdown",
   "metadata": {},
   "source": [
    "### Prompt 2.3: [Style/Approach]"
   ]
  },
  {
   "cell_type": "code",
   "execution_count": null,
   "metadata": {},
   "outputs": [],
   "source": [
    "prompt_2_3 = \"\"\"\n",
    "[Your prompt here]\n",
    "\"\"\"\n",
    "print(\"PROMPT:\")\n",
    "print(prompt_2_3)\n",
    "\n",
    "response_2_3 = get_completion(prompt_2_3)\n",
    "print(\"\\nRESPONSE:\")\n",
    "print(response_2_3)"
   ]
  },
  {
   "cell_type": "markdown",
   "metadata": {},
   "source": [
    "### Prompt 2.4: [Style/Approach]"
   ]
  },
  {
   "cell_type": "code",
   "execution_count": null,
   "metadata": {},
   "outputs": [],
   "source": [
    "prompt_2_4 = \"\"\"\n",
    "[Your prompt here]\n",
    "\"\"\"\n",
    "print(\"PROMPT:\")\n",
    "print(prompt_2_4)\n",
    "\n",
    "response_2_4 = get_completion(prompt_2_4)\n",
    "print(\"\\nRESPONSE:\")\n",
    "print(response_2_4)"
   ]
  },
  {
   "cell_type": "markdown",
   "metadata": {},
   "source": [
    "### Prompt 2.5: [Style/Approach]"
   ]
  },
  {
   "cell_type": "code",
   "execution_count": null,
   "metadata": {},
   "outputs": [],
   "source": [
    "prompt_2_5 = \"\"\"\n",
    "[Your prompt here]\n",
    "\"\"\"\n",
    "print(\"PROMPT:\")\n",
    "print(prompt_2_5)\n",
    "\n",
    "response_2_5 = get_completion(prompt_2_5)\n",
    "print(\"\\nRESPONSE:\")\n",
    "print(response_2_5)"
   ]
  },
  {
   "cell_type": "markdown",
   "metadata": {},
   "source": [
    "---\n",
    "## Task 3: [Your Task Name]"
   ]
  },
  {
   "cell_type": "markdown",
   "metadata": {},
   "source": [
    "### Prompt 3.1: [Style/Approach]"
   ]
  },
  {
   "cell_type": "code",
   "execution_count": null,
   "metadata": {},
   "outputs": [],
   "source": [
    "prompt_3_1 = \"\"\"\n",
    "[Your prompt here]\n",
    "\"\"\"\n",
    "print(\"PROMPT:\")\n",
    "print(prompt_3_1)\n",
    "\n",
    "response_3_1 = get_completion(prompt_3_1)\n",
    "print(\"\\nRESPONSE:\")\n",
    "print(response_3_1)"
   ]
  },
  {
   "cell_type": "markdown",
   "metadata": {},
   "source": [
    "### Prompt 3.2: [Style/Approach]"
   ]
  },
  {
   "cell_type": "code",
   "execution_count": null,
   "metadata": {},
   "outputs": [],
   "source": [
    "prompt_3_2 = \"\"\"\n",
    "[Your prompt here]\n",
    "\"\"\"\n",
    "print(\"PROMPT:\")\n",
    "print(prompt_3_2)\n",
    "\n",
    "response_3_2 = get_completion(prompt_3_2)\n",
    "print(\"\\nRESPONSE:\")\n",
    "print(response_3_2)"
   ]
  },
  {
   "cell_type": "markdown",
   "metadata": {},
   "source": [
    "### Prompt 3.3: [Style/Approach]"
   ]
  },
  {
   "cell_type": "code",
   "execution_count": null,
   "metadata": {},
   "outputs": [],
   "source": [
    "prompt_3_3 = \"\"\"\n",
    "[Your prompt here]\n",
    "\"\"\"\n",
    "print(\"PROMPT:\")\n",
    "print(prompt_3_3)\n",
    "\n",
    "response_3_3 = get_completion(prompt_3_3)\n",
    "print(\"\\nRESPONSE:\")\n",
    "print(response_3_3)"
   ]
  },
  {
   "cell_type": "markdown",
   "metadata": {},
   "source": [
    "### Prompt 3.4: [Style/Approach]"
   ]
  },
  {
   "cell_type": "code",
   "execution_count": null,
   "metadata": {},
   "outputs": [],
   "source": [
    "prompt_3_4 = \"\"\"\n",
    "[Your prompt here]\n",
    "\"\"\"\n",
    "print(\"PROMPT:\")\n",
    "print(prompt_3_4)\n",
    "\n",
    "response_3_4 = get_completion(prompt_3_4)\n",
    "print(\"\\nRESPONSE:\")\n",
    "print(response_3_4)"
   ]
  },
  {
   "cell_type": "markdown",
   "metadata": {},
   "source": [
    "### Prompt 3.5: [Style/Approach]"
   ]
  },
  {
   "cell_type": "code",
   "execution_count": null,
   "metadata": {},
   "outputs": [],
   "source": [
    "prompt_3_5 = \"\"\"\n",
    "[Your prompt here]\n",
    "\"\"\"\n",
    "print(\"PROMPT:\")\n",
    "print(prompt_3_5)\n",
    "\n",
    "response_3_5 = get_completion(prompt_3_5)\n",
    "print(\"\\nRESPONSE:\")\n",
    "print(response_3_5)"
   ]
  }
 ],
 "metadata": {
  "kernelspec": {
   "display_name": "Python 3",
   "language": "python",
   "name": "python3"
  },
  "language_info": {
   "codemirror_mode": {
    "name": "ipython",
    "version": 3
   },
   "file_extension": ".py",
   "mimetype": "text/x-python",
   "name": "python",
   "nbconvert_exporter": "python",
   "pygments_lexer": "ipython3",
   "version": "3.13.5"
  }
 },
 "nbformat": 4,
 "nbformat_minor": 4
}
