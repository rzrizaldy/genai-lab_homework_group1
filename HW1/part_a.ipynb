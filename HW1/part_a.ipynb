{
 "cells": [
  {
   "cell_type": "markdown",
   "metadata": {},
   "source": [
    "# Part A: Experimenting with Prompt Design\n",
    "\n",
    "**Note:** Experiments conducted using https://gpt-oss.com/\n",
    "\n",
    "Copy prompts to the web interface, paste responses back here."
   ]
  },
  {
   "cell_type": "markdown",
   "metadata": {},
   "source": [
    "---\n",
    "## Task 1: [Your Task Name]"
   ]
  },
  {
   "cell_type": "markdown",
   "metadata": {},
   "source": [
    "### Prompt 1.1: [Style/Approach]"
   ]
  },
  {
   "cell_type": "code",
   "execution_count": null,
   "metadata": {},
   "outputs": [],
   "source": [
    "prompt_1_1 = \"\"\"\n",
    "[Your prompt here]\n",
    "\"\"\"\n",
    "print(prompt_1_1)"
   ]
  },
  {
   "cell_type": "code",
   "execution_count": null,
   "metadata": {},
   "outputs": [],
   "source": [
    "# Paste response from gpt-oss.com\n",
    "response_1_1 = \"\"\"\n",
    "[Paste response here]\n",
    "\"\"\"\n",
    "print(response_1_1)"
   ]
  },
  {
   "cell_type": "markdown",
   "metadata": {},
   "source": [
    "### Prompt 1.2: [Style/Approach]"
   ]
  },
  {
   "cell_type": "code",
   "execution_count": null,
   "metadata": {},
   "outputs": [],
   "source": [
    "prompt_1_2 = \"\"\"\n",
    "[Your prompt here]\n",
    "\"\"\"\n",
    "print(prompt_1_2)"
   ]
  },
  {
   "cell_type": "code",
   "execution_count": null,
   "metadata": {},
   "outputs": [],
   "source": [
    "response_1_2 = \"\"\"\n",
    "[Paste response here]\n",
    "\"\"\"\n",
    "print(response_1_2)"
   ]
  },
  {
   "cell_type": "markdown",
   "metadata": {},
   "source": [
    "### Prompt 1.3: [Style/Approach]"
   ]
  },
  {
   "cell_type": "code",
   "execution_count": null,
   "metadata": {},
   "outputs": [],
   "source": [
    "prompt_1_3 = \"\"\"\n",
    "[Your prompt here]\n",
    "\"\"\"\n",
    "print(prompt_1_3)"
   ]
  },
  {
   "cell_type": "code",
   "execution_count": null,
   "metadata": {},
   "outputs": [],
   "source": [
    "response_1_3 = \"\"\"\n",
    "[Paste response here]\n",
    "\"\"\"\n",
    "print(response_1_3)"
   ]
  },
  {
   "cell_type": "markdown",
   "metadata": {},
   "source": [
    "### Prompt 1.4: [Style/Approach]"
   ]
  },
  {
   "cell_type": "code",
   "execution_count": null,
   "metadata": {},
   "outputs": [],
   "source": [
    "prompt_1_4 = \"\"\"\n",
    "[Your prompt here]\n",
    "\"\"\"\n",
    "print(prompt_1_4)"
   ]
  },
  {
   "cell_type": "code",
   "execution_count": null,
   "metadata": {},
   "outputs": [],
   "source": [
    "response_1_4 = \"\"\"\n",
    "[Paste response here]\n",
    "\"\"\"\n",
    "print(response_1_4)"
   ]
  },
  {
   "cell_type": "markdown",
   "metadata": {},
   "source": [
    "### Prompt 1.5: [Style/Approach]"
   ]
  },
  {
   "cell_type": "code",
   "execution_count": null,
   "metadata": {},
   "outputs": [],
   "source": [
    "prompt_1_5 = \"\"\"\n",
    "[Your prompt here]\n",
    "\"\"\"\n",
    "print(prompt_1_5)"
   ]
  },
  {
   "cell_type": "code",
   "execution_count": null,
   "metadata": {},
   "outputs": [],
   "source": [
    "response_1_5 = \"\"\"\n",
    "[Paste response here]\n",
    "\"\"\"\n",
    "print(response_1_5)"
   ]
  },
  {
   "cell_type": "markdown",
   "metadata": {},
   "source": [
    "---\n",
    "## Task 2: [Your Task Name]"
   ]
  },
  {
   "cell_type": "markdown",
   "metadata": {},
   "source": [
    "### Prompt 2.1: [Style/Approach]"
   ]
  },
  {
   "cell_type": "code",
   "execution_count": null,
   "metadata": {},
   "outputs": [],
   "source": [
    "prompt_2_1 = \"\"\"\n",
    "[Your prompt here]\n",
    "\"\"\"\n",
    "print(prompt_2_1)"
   ]
  },
  {
   "cell_type": "code",
   "execution_count": null,
   "metadata": {},
   "outputs": [],
   "source": [
    "response_2_1 = \"\"\"\n",
    "[Paste response here]\n",
    "\"\"\"\n",
    "print(response_2_1)"
   ]
  },
  {
   "cell_type": "markdown",
   "metadata": {},
   "source": [
    "### Prompt 2.2: [Style/Approach]"
   ]
  },
  {
   "cell_type": "code",
   "execution_count": null,
   "metadata": {},
   "outputs": [],
   "source": [
    "prompt_2_2 = \"\"\"\n",
    "[Your prompt here]\n",
    "\"\"\"\n",
    "print(prompt_2_2)"
   ]
  },
  {
   "cell_type": "code",
   "execution_count": null,
   "metadata": {},
   "outputs": [],
   "source": [
    "response_2_2 = \"\"\"\n",
    "[Paste response here]\n",
    "\"\"\"\n",
    "print(response_2_2)"
   ]
  },
  {
   "cell_type": "markdown",
   "metadata": {},
   "source": [
    "### Prompt 2.3: [Style/Approach]"
   ]
  },
  {
   "cell_type": "code",
   "execution_count": null,
   "metadata": {},
   "outputs": [],
   "source": [
    "prompt_2_3 = \"\"\"\n",
    "[Your prompt here]\n",
    "\"\"\"\n",
    "print(prompt_2_3)"
   ]
  },
  {
   "cell_type": "code",
   "execution_count": null,
   "metadata": {},
   "outputs": [],
   "source": [
    "response_2_3 = \"\"\"\n",
    "[Paste response here]\n",
    "\"\"\"\n",
    "print(response_2_3)"
   ]
  },
  {
   "cell_type": "markdown",
   "metadata": {},
   "source": [
    "### Prompt 2.4: [Style/Approach]"
   ]
  },
  {
   "cell_type": "code",
   "execution_count": null,
   "metadata": {},
   "outputs": [],
   "source": [
    "prompt_2_4 = \"\"\"\n",
    "[Your prompt here]\n",
    "\"\"\"\n",
    "print(prompt_2_4)"
   ]
  },
  {
   "cell_type": "code",
   "execution_count": null,
   "metadata": {},
   "outputs": [],
   "source": [
    "response_2_4 = \"\"\"\n",
    "[Paste response here]\n",
    "\"\"\"\n",
    "print(response_2_4)"
   ]
  },
  {
   "cell_type": "markdown",
   "metadata": {},
   "source": [
    "### Prompt 2.5: [Style/Approach]"
   ]
  },
  {
   "cell_type": "code",
   "execution_count": null,
   "metadata": {},
   "outputs": [],
   "source": [
    "prompt_2_5 = \"\"\"\n",
    "[Your prompt here]\n",
    "\"\"\"\n",
    "print(prompt_2_5)"
   ]
  },
  {
   "cell_type": "code",
   "execution_count": null,
   "metadata": {},
   "outputs": [],
   "source": [
    "response_2_5 = \"\"\"\n",
    "[Paste response here]\n",
    "\"\"\"\n",
    "print(response_2_5)"
   ]
  },
  {
   "cell_type": "markdown",
   "metadata": {},
   "source": [
    "---\n",
    "## Task 3: [Your Task Name]"
   ]
  },
  {
   "cell_type": "markdown",
   "metadata": {},
   "source": [
    "### Prompt 3.1: [Style/Approach]"
   ]
  },
  {
   "cell_type": "code",
   "execution_count": null,
   "metadata": {},
   "outputs": [],
   "source": [
    "prompt_3_1 = \"\"\"\n",
    "[Your prompt here]\n",
    "\"\"\"\n",
    "print(prompt_3_1)"
   ]
  },
  {
   "cell_type": "code",
   "execution_count": null,
   "metadata": {},
   "outputs": [],
   "source": [
    "response_3_1 = \"\"\"\n",
    "[Paste response here]\n",
    "\"\"\"\n",
    "print(response_3_1)"
   ]
  },
  {
   "cell_type": "markdown",
   "metadata": {},
   "source": [
    "### Prompt 3.2: [Style/Approach]"
   ]
  },
  {
   "cell_type": "code",
   "execution_count": null,
   "metadata": {},
   "outputs": [],
   "source": [
    "prompt_3_2 = \"\"\"\n",
    "[Your prompt here]\n",
    "\"\"\"\n",
    "print(prompt_3_2)"
   ]
  },
  {
   "cell_type": "code",
   "execution_count": null,
   "metadata": {},
   "outputs": [],
   "source": [
    "response_3_2 = \"\"\"\n",
    "[Paste response here]\n",
    "\"\"\"\n",
    "print(response_3_2)"
   ]
  },
  {
   "cell_type": "markdown",
   "metadata": {},
   "source": [
    "### Prompt 3.3: [Style/Approach]"
   ]
  },
  {
   "cell_type": "code",
   "execution_count": null,
   "metadata": {},
   "outputs": [],
   "source": [
    "prompt_3_3 = \"\"\"\n",
    "[Your prompt here]\n",
    "\"\"\"\n",
    "print(prompt_3_3)"
   ]
  },
  {
   "cell_type": "code",
   "execution_count": null,
   "metadata": {},
   "outputs": [],
   "source": [
    "response_3_3 = \"\"\"\n",
    "[Paste response here]\n",
    "\"\"\"\n",
    "print(response_3_3)"
   ]
  },
  {
   "cell_type": "markdown",
   "metadata": {},
   "source": [
    "### Prompt 3.4: [Style/Approach]"
   ]
  },
  {
   "cell_type": "code",
   "execution_count": null,
   "metadata": {},
   "outputs": [],
   "source": [
    "prompt_3_4 = \"\"\"\n",
    "[Your prompt here]\n",
    "\"\"\"\n",
    "print(prompt_3_4)"
   ]
  },
  {
   "cell_type": "code",
   "execution_count": null,
   "metadata": {},
   "outputs": [],
   "source": [
    "response_3_4 = \"\"\"\n",
    "[Paste response here]\n",
    "\"\"\"\n",
    "print(response_3_4)"
   ]
  },
  {
   "cell_type": "markdown",
   "metadata": {},
   "source": [
    "### Prompt 3.5: [Style/Approach]"
   ]
  },
  {
   "cell_type": "code",
   "execution_count": null,
   "metadata": {},
   "outputs": [],
   "source": [
    "prompt_3_5 = \"\"\"\n",
    "[Your prompt here]\n",
    "\"\"\"\n",
    "print(prompt_3_5)"
   ]
  },
  {
   "cell_type": "code",
   "execution_count": null,
   "metadata": {},
   "outputs": [],
   "source": [
    "response_3_5 = \"\"\"\n",
    "[Paste response here]\n",
    "\"\"\"\n",
    "print(response_3_5)"
   ]
  }
 ],
 "metadata": {
  "kernelspec": {
   "display_name": "Python 3",
   "language": "python",
   "name": "python3"
  },
  "language_info": {
   "name": "python",
   "version": "3.8.0"
  }
 },
 "nbformat": 4,
 "nbformat_minor": 4
}
