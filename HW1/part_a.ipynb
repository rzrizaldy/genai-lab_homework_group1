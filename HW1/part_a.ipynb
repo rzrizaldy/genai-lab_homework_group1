{
 "cells": [
  {
   "cell_type": "markdown",
   "metadata": {},
   "source": [
    "# Part A: Experimenting with Prompt Design\n",
    "\n",
    "**Experiments conducted using HuggingFace Inference API**\n",
    "\n",
    "Set `HF_TOKEN` in `.env` file, then run cells to test prompts automatically.\n",
    "\n",
    "Alternative: Use https://gpt-oss.com/ manually if preferred."
   ]
  },
  {
   "cell_type": "markdown",
   "metadata": {},
   "source": [
    "## Setup"
   ]
  },
  {
   "cell_type": "code",
   "execution_count": 3,
   "metadata": {},
   "outputs": [
    {
     "name": "stdout",
     "output_type": "stream",
     "text": [
      "Testing connection...\n",
      "Response: Hello!\n"
     ]
    }
   ],
   "source": [
    "import os\n",
    "from openai import OpenAI\n",
    "from dotenv import load_dotenv\n",
    "\n",
    "load_dotenv()\n",
    "\n",
    "client = OpenAI(\n",
    "    base_url=\"https://router.huggingface.co/v1\",\n",
    "    api_key=os.environ.get(\"HF_TOKEN\", \"your_token_here\"),\n",
    ")\n",
    "\n",
    "def get_completion(prompt, model=\"openai/gpt-oss-20b:groq\"):\n",
    "    try:\n",
    "        completion = client.chat.completions.create(\n",
    "            model=model,\n",
    "            messages=[{\"role\": \"user\", \"content\": prompt}],\n",
    "        )\n",
    "        return completion.choices[0].message.content\n",
    "    except Exception as e:\n",
    "        return f\"Error: {str(e)}\"\n",
    "\n",
    "print(\"Testing connection...\")\n",
    "test = get_completion(\"Say 'Hello!'\")\n",
    "print(f\"Response: {test}\")"
   ]
  },
  {
   "cell_type": "markdown",
   "metadata": {},
   "source": [
    "---\n",
    "## Task 1: Translation"
   ]
  },
  {
   "cell_type": "markdown",
   "metadata": {},
   "source": [
    "### Prompt 1.1: Lyrics Translation (English to Indonesian) -- Direct Translate"
   ]
  },
  {
   "cell_type": "code",
   "execution_count": 5,
   "metadata": {},
   "outputs": [
    {
     "name": "stdout",
     "output_type": "stream",
     "text": [
      "PROMPT:\n",
      "\n",
      "\n",
      "Translate the following text to Indonesian:\n",
      "\n",
      "Beauty queen of only eighteen\n",
      "She had some trouble with herself\n",
      "He was always there to help her\n",
      "She always belonged to someone else\n",
      "I drove for miles and miles\n",
      "And wound up at your door\n",
      "I've had you so many times\n",
      "But somehow, I want more\n",
      "\n",
      "I don't mind spending every day\n",
      "Out on your corner in the pouring rain\n",
      "Look for the girl with the broken smile\n",
      "Ask her if she wants to stay a while\n",
      "And she will be loved\n",
      "And she will be loved\n",
      "\n",
      "\n",
      "\n",
      "RESPONSE:\n",
      "Ratu kecantikan berusia hanya delapan belas  \n",
      "Dia mengalami beberapa masalah dengan dirinya sendiri  \n",
      "Dia selalu ada untuk membantunya  \n",
      "Dia selalu milik orang lain  \n",
      "\n",
      "Saya mengemudi sejauh jarak  \n",
      "Dan akhirnya sampai di pintumu  \n",
      "Aku sudah bersamamu begitu banyak kali  \n",
      "Tapi entah bagaimana, aku ingin lebih  \n",
      "\n",
      "Aku tidak keberatan menghabiskan setiap hari  \n",
      "Di sudutmu di tengah hujan deras  \n",
      "Cari gadis dengan senyum patah  \n",
      "Tanyalah padanya apakah dia ingin tinggal sebentar  \n",
      "Dan dia akan dicintai  \n",
      "Dan dia akan dicintai\n"
     ]
    }
   ],
   "source": [
    "prompt_1_1 = \"\"\"\n",
    "\n",
    "Translate the following text to Indonesian:\n",
    "\n",
    "Beauty queen of only eighteen\n",
    "She had some trouble with herself\n",
    "He was always there to help her\n",
    "She always belonged to someone else\n",
    "I drove for miles and miles\n",
    "And wound up at your door\n",
    "I've had you so many times\n",
    "But somehow, I want more\n",
    "\n",
    "I don't mind spending every day\n",
    "Out on your corner in the pouring rain\n",
    "Look for the girl with the broken smile\n",
    "Ask her if she wants to stay a while\n",
    "And she will be loved\n",
    "And she will be loved\n",
    "\n",
    "\"\"\"\n",
    "print(\"PROMPT:\")\n",
    "print(prompt_1_1)\n",
    "\n",
    "response_1_1 = get_completion(prompt_1_1)\n",
    "print(\"\\nRESPONSE:\")\n",
    "print(response_1_1)"
   ]
  },
  {
   "cell_type": "markdown",
   "metadata": {},
   "source": [
    "### Prompt 1.2: Lyrics Translation (English to Indonesian) -- Meaning Analyzer"
   ]
  },
  {
   "cell_type": "code",
   "execution_count": 6,
   "metadata": {},
   "outputs": [
    {
     "name": "stdout",
     "output_type": "stream",
     "text": [
      "PROMPT:\n",
      "\n",
      "Act like lyrics translator that understand meaning of the lyrics, then can translate into another language, in this case Indonesian. Make sure the meaning is clear and not only direct translation.:\n",
      "\n",
      "Beauty queen of only eighteen\n",
      "She had some trouble with herself\n",
      "He was always there to help her\n",
      "She always belonged to someone else\n",
      "I drove for miles and miles\n",
      "And wound up at your door\n",
      "I've had you so many times\n",
      "But somehow, I want more\n",
      "\n",
      "I don't mind spending every day\n",
      "Out on your corner in the pouring rain\n",
      "Look for the girl with the broken smile\n",
      "Ask her if she wants to stay a while\n",
      "And she will be loved\n",
      "And she will be loved\n",
      "\n",
      "\n",
      "RESPONSE:\n",
      "**Terjemahan Bahasa Indonesia (mengutamakan makna dan nuansa)**  \n",
      "\n",
      "Berikut terjemahan lirik tersebut ke dalam bahasa Indonesia, diusahakan tetap menyampaikan makna dan nuansa emosionalnya:\n",
      "\n",
      "```\n",
      "Ratu cantik berusia delapan belas\n",
      "Dia punya kesulitan dengan dirinya sendiri\n",
      "Dia selalu hadir untuk membantunya\n",
      "Dia selalu milik orang lain\n",
      "\n",
      "Aku menempuh jarak berkilometers  \n",
      "Dan akhirnya tiba di pintumu\n",
      "\n",
      "Aku sudah mengenalmu berkali‑kali  \n",
      "Tapi entah kenapa, aku menginginkan lebih\n",
      "\n",
      "Aku tak keberatan menghabiskan setiap hari  \n",
      "Di sudutmu, di tengah hujan deras\n",
      "\n",
      "Cari gadis yang senyumnya retak  \n",
      "Tanya apakah dia mau tinggal sebentar\n",
      "\n",
      "Dan dia akan dicintai  \n",
      "Dan dia akan dicintai\n",
      "```\n",
      "\n",
      "*Catatan:*  \n",
      "Terjemahan di atas berusaha menyampaikan makna dan nuansa lirik asli tanpa terikat pada padanan harfiah satu‑satu kata, sehingga pesan emosionalnya tetap jelas bagi penutur bahasa Indonesia.\n"
     ]
    }
   ],
   "source": [
    "prompt_1_2 = \"\"\"\n",
    "Act like lyrics translator that understand meaning of the lyrics, then can translate into another language, in this case Indonesian. Make sure the meaning is clear and not only direct translation.:\n",
    "\n",
    "Beauty queen of only eighteen\n",
    "She had some trouble with herself\n",
    "He was always there to help her\n",
    "She always belonged to someone else\n",
    "I drove for miles and miles\n",
    "And wound up at your door\n",
    "I've had you so many times\n",
    "But somehow, I want more\n",
    "\n",
    "I don't mind spending every day\n",
    "Out on your corner in the pouring rain\n",
    "Look for the girl with the broken smile\n",
    "Ask her if she wants to stay a while\n",
    "And she will be loved\n",
    "And she will be loved\n",
    "\"\"\"\n",
    "print(\"PROMPT:\")\n",
    "print(prompt_1_2)\n",
    "\n",
    "response_1_2 = get_completion(prompt_1_2)\n",
    "print(\"\\nRESPONSE:\")\n",
    "print(response_1_2)"
   ]
  },
  {
   "cell_type": "markdown",
   "metadata": {},
   "source": [
    "### Prompt 1.3: [Style/Approach]"
   ]
  },
  {
   "cell_type": "code",
   "execution_count": null,
   "metadata": {},
   "outputs": [],
   "source": [
    "prompt_1_3 = \"\"\"\n",
    "[Your prompt here]\n",
    "\"\"\"\n",
    "print(\"PROMPT:\")\n",
    "print(prompt_1_3)\n",
    "\n",
    "response_1_3 = get_completion(prompt_1_3)\n",
    "print(\"\\nRESPONSE:\")\n",
    "print(response_1_3)"
   ]
  },
  {
   "cell_type": "markdown",
   "metadata": {},
   "source": [
    "### Prompt 1.4: [Style/Approach]"
   ]
  },
  {
   "cell_type": "code",
   "execution_count": null,
   "metadata": {},
   "outputs": [],
   "source": [
    "prompt_1_4 = \"\"\"\n",
    "[Your prompt here]\n",
    "\"\"\"\n",
    "print(\"PROMPT:\")\n",
    "print(prompt_1_4)\n",
    "\n",
    "response_1_4 = get_completion(prompt_1_4)\n",
    "print(\"\\nRESPONSE:\")\n",
    "print(response_1_4)"
   ]
  },
  {
   "cell_type": "markdown",
   "metadata": {},
   "source": [
    "### Prompt 1.5: [Style/Approach]"
   ]
  },
  {
   "cell_type": "code",
   "execution_count": null,
   "metadata": {},
   "outputs": [],
   "source": [
    "prompt_1_5 = \"\"\"\n",
    "[Your prompt here]\n",
    "\"\"\"\n",
    "print(\"PROMPT:\")\n",
    "print(prompt_1_5)\n",
    "\n",
    "response_1_5 = get_completion(prompt_1_5)\n",
    "print(\"\\nRESPONSE:\")\n",
    "print(response_1_5)"
   ]
  },
  {
   "cell_type": "markdown",
   "metadata": {},
   "source": [
    "---\n",
    "## Task 2: [Your Task Name]"
   ]
  },
  {
   "cell_type": "markdown",
   "metadata": {},
   "source": [
    "### Prompt 2.1: [Style/Approach]"
   ]
  },
  {
   "cell_type": "code",
   "execution_count": null,
   "metadata": {},
   "outputs": [],
   "source": [
    "prompt_2_1 = \"\"\"\n",
    "[Your prompt here]\n",
    "\"\"\"\n",
    "print(\"PROMPT:\")\n",
    "print(prompt_2_1)\n",
    "\n",
    "response_2_1 = get_completion(prompt_2_1)\n",
    "print(\"\\nRESPONSE:\")\n",
    "print(response_2_1)"
   ]
  },
  {
   "cell_type": "markdown",
   "metadata": {},
   "source": [
    "### Prompt 2.2: [Style/Approach]"
   ]
  },
  {
   "cell_type": "code",
   "execution_count": null,
   "metadata": {},
   "outputs": [],
   "source": [
    "prompt_2_2 = \"\"\"\n",
    "[Your prompt here]\n",
    "\"\"\"\n",
    "print(\"PROMPT:\")\n",
    "print(prompt_2_2)\n",
    "\n",
    "response_2_2 = get_completion(prompt_2_2)\n",
    "print(\"\\nRESPONSE:\")\n",
    "print(response_2_2)"
   ]
  },
  {
   "cell_type": "markdown",
   "metadata": {},
   "source": [
    "### Prompt 2.3: [Style/Approach]"
   ]
  },
  {
   "cell_type": "code",
   "execution_count": null,
   "metadata": {},
   "outputs": [],
   "source": [
    "prompt_2_3 = \"\"\"\n",
    "[Your prompt here]\n",
    "\"\"\"\n",
    "print(\"PROMPT:\")\n",
    "print(prompt_2_3)\n",
    "\n",
    "response_2_3 = get_completion(prompt_2_3)\n",
    "print(\"\\nRESPONSE:\")\n",
    "print(response_2_3)"
   ]
  },
  {
   "cell_type": "markdown",
   "metadata": {},
   "source": [
    "### Prompt 2.4: [Style/Approach]"
   ]
  },
  {
   "cell_type": "code",
   "execution_count": null,
   "metadata": {},
   "outputs": [],
   "source": [
    "prompt_2_4 = \"\"\"\n",
    "[Your prompt here]\n",
    "\"\"\"\n",
    "print(\"PROMPT:\")\n",
    "print(prompt_2_4)\n",
    "\n",
    "response_2_4 = get_completion(prompt_2_4)\n",
    "print(\"\\nRESPONSE:\")\n",
    "print(response_2_4)"
   ]
  },
  {
   "cell_type": "markdown",
   "metadata": {},
   "source": [
    "### Prompt 2.5: [Style/Approach]"
   ]
  },
  {
   "cell_type": "code",
   "execution_count": null,
   "metadata": {},
   "outputs": [],
   "source": [
    "prompt_2_5 = \"\"\"\n",
    "[Your prompt here]\n",
    "\"\"\"\n",
    "print(\"PROMPT:\")\n",
    "print(prompt_2_5)\n",
    "\n",
    "response_2_5 = get_completion(prompt_2_5)\n",
    "print(\"\\nRESPONSE:\")\n",
    "print(response_2_5)"
   ]
  },
  {
   "cell_type": "markdown",
   "metadata": {},
   "source": [
    "---\n",
    "## Task 3: [Your Task Name]"
   ]
  },
  {
   "cell_type": "markdown",
   "metadata": {},
   "source": [
    "### Prompt 3.1: [Style/Approach]"
   ]
  },
  {
   "cell_type": "code",
   "execution_count": null,
   "metadata": {},
   "outputs": [],
   "source": [
    "prompt_3_1 = \"\"\"\n",
    "[Your prompt here]\n",
    "\"\"\"\n",
    "print(\"PROMPT:\")\n",
    "print(prompt_3_1)\n",
    "\n",
    "response_3_1 = get_completion(prompt_3_1)\n",
    "print(\"\\nRESPONSE:\")\n",
    "print(response_3_1)"
   ]
  },
  {
   "cell_type": "markdown",
   "metadata": {},
   "source": [
    "### Prompt 3.2: [Style/Approach]"
   ]
  },
  {
   "cell_type": "code",
   "execution_count": null,
   "metadata": {},
   "outputs": [],
   "source": [
    "prompt_3_2 = \"\"\"\n",
    "[Your prompt here]\n",
    "\"\"\"\n",
    "print(\"PROMPT:\")\n",
    "print(prompt_3_2)\n",
    "\n",
    "response_3_2 = get_completion(prompt_3_2)\n",
    "print(\"\\nRESPONSE:\")\n",
    "print(response_3_2)"
   ]
  },
  {
   "cell_type": "markdown",
   "metadata": {},
   "source": [
    "### Prompt 3.3: [Style/Approach]"
   ]
  },
  {
   "cell_type": "code",
   "execution_count": null,
   "metadata": {},
   "outputs": [],
   "source": [
    "prompt_3_3 = \"\"\"\n",
    "[Your prompt here]\n",
    "\"\"\"\n",
    "print(\"PROMPT:\")\n",
    "print(prompt_3_3)\n",
    "\n",
    "response_3_3 = get_completion(prompt_3_3)\n",
    "print(\"\\nRESPONSE:\")\n",
    "print(response_3_3)"
   ]
  },
  {
   "cell_type": "markdown",
   "metadata": {},
   "source": [
    "### Prompt 3.4: [Style/Approach]"
   ]
  },
  {
   "cell_type": "code",
   "execution_count": null,
   "metadata": {},
   "outputs": [],
   "source": [
    "prompt_3_4 = \"\"\"\n",
    "[Your prompt here]\n",
    "\"\"\"\n",
    "print(\"PROMPT:\")\n",
    "print(prompt_3_4)\n",
    "\n",
    "response_3_4 = get_completion(prompt_3_4)\n",
    "print(\"\\nRESPONSE:\")\n",
    "print(response_3_4)"
   ]
  },
  {
   "cell_type": "markdown",
   "metadata": {},
   "source": [
    "### Prompt 3.5: [Style/Approach]"
   ]
  },
  {
   "cell_type": "code",
   "execution_count": null,
   "metadata": {},
   "outputs": [],
   "source": [
    "prompt_3_5 = \"\"\"\n",
    "[Your prompt here]\n",
    "\"\"\"\n",
    "print(\"PROMPT:\")\n",
    "print(prompt_3_5)\n",
    "\n",
    "response_3_5 = get_completion(prompt_3_5)\n",
    "print(\"\\nRESPONSE:\")\n",
    "print(response_3_5)"
   ]
  }
 ],
 "metadata": {
  "kernelspec": {
   "display_name": "Python 3",
   "language": "python",
   "name": "python3"
  },
  "language_info": {
   "codemirror_mode": {
    "name": "ipython",
    "version": 3
   },
   "file_extension": ".py",
   "mimetype": "text/x-python",
   "name": "python",
   "nbconvert_exporter": "python",
   "pygments_lexer": "ipython3",
   "version": "3.13.5"
  }
 },
 "nbformat": 4,
 "nbformat_minor": 4
}
